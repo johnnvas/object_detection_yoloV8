{
 "cells": [
  {
   "cell_type": "code",
   "execution_count": 22,
   "id": "159094b9",
   "metadata": {},
   "outputs": [
    {
     "name": "stdout",
     "output_type": "stream",
     "text": [
      "\n",
      "image 1/1 /home/vasquezjc/machine_learning/object_detection_yoloV8/cat_dog.jpg: 448x640 1 cat, 1 dog, 2033.1ms\n",
      "Speed: 43.7ms preprocess, 2033.1ms inference, 45.6ms postprocess per image at shape (1, 3, 448, 640)\n",
      "\n",
      "image 1/1 /home/vasquezjc/machine_learning/object_detection_yoloV8/umbrela.jpg: 512x640 1 umbrella, 1152.9ms\n",
      "Speed: 6.9ms preprocess, 1152.9ms inference, 4.5ms postprocess per image at shape (1, 3, 512, 640)\n"
     ]
    }
   ],
   "source": [
    "from ultralytics import YOLO\n",
    "\n",
    "model = YOLO(\"yolov8m.pt\")\n",
    "\n",
    "results = model.predict(\"cat_dog.jpg\")\n",
    "results2 = model.predict(\"umbrela.jpg\")\n",
    "result2 = results2[0]\n",
    "result = results[0]"
   ]
  },
  {
   "cell_type": "code",
   "execution_count": 7,
   "id": "bf28b8fc",
   "metadata": {},
   "outputs": [
    {
     "data": {
      "text/plain": [
       "2"
      ]
     },
     "execution_count": 7,
     "metadata": {},
     "output_type": "execute_result"
    }
   ],
   "source": [
    "len(result.boxes)"
   ]
  },
  {
   "cell_type": "code",
   "execution_count": 6,
   "id": "8c76a32d",
   "metadata": {},
   "outputs": [
    {
     "name": "stdout",
     "output_type": "stream",
     "text": [
      "[ultralytics.engine.results.Results object with attributes:\n",
      "\n",
      "boxes: ultralytics.engine.results.Boxes object\n",
      "keypoints: None\n",
      "masks: None\n",
      "names: {0: 'person', 1: 'bicycle', 2: 'car', 3: 'motorcycle', 4: 'airplane', 5: 'bus', 6: 'train', 7: 'truck', 8: 'boat', 9: 'traffic light', 10: 'fire hydrant', 11: 'stop sign', 12: 'parking meter', 13: 'bench', 14: 'bird', 15: 'cat', 16: 'dog', 17: 'horse', 18: 'sheep', 19: 'cow', 20: 'elephant', 21: 'bear', 22: 'zebra', 23: 'giraffe', 24: 'backpack', 25: 'umbrella', 26: 'handbag', 27: 'tie', 28: 'suitcase', 29: 'frisbee', 30: 'skis', 31: 'snowboard', 32: 'sports ball', 33: 'kite', 34: 'baseball bat', 35: 'baseball glove', 36: 'skateboard', 37: 'surfboard', 38: 'tennis racket', 39: 'bottle', 40: 'wine glass', 41: 'cup', 42: 'fork', 43: 'knife', 44: 'spoon', 45: 'bowl', 46: 'banana', 47: 'apple', 48: 'sandwich', 49: 'orange', 50: 'broccoli', 51: 'carrot', 52: 'hot dog', 53: 'pizza', 54: 'donut', 55: 'cake', 56: 'chair', 57: 'couch', 58: 'potted plant', 59: 'bed', 60: 'dining table', 61: 'toilet', 62: 'tv', 63: 'laptop', 64: 'mouse', 65: 'remote', 66: 'keyboard', 67: 'cell phone', 68: 'microwave', 69: 'oven', 70: 'toaster', 71: 'sink', 72: 'refrigerator', 73: 'book', 74: 'clock', 75: 'vase', 76: 'scissors', 77: 'teddy bear', 78: 'hair drier', 79: 'toothbrush'}\n",
      "orig_img: array([[[22, 67, 70],\n",
      "        [20, 68, 70],\n",
      "        [21, 68, 72],\n",
      "        ...,\n",
      "        [38, 60, 78],\n",
      "        [38, 60, 78],\n",
      "        [38, 60, 78]],\n",
      "\n",
      "       [[22, 67, 70],\n",
      "        [20, 68, 70],\n",
      "        [21, 68, 72],\n",
      "        ...,\n",
      "        [36, 60, 78],\n",
      "        [38, 60, 78],\n",
      "        [36, 60, 78]],\n",
      "\n",
      "       [[22, 67, 71],\n",
      "        [20, 67, 71],\n",
      "        [21, 68, 72],\n",
      "        ...,\n",
      "        [35, 61, 77],\n",
      "        [36, 61, 77],\n",
      "        [35, 61, 77]],\n",
      "\n",
      "       ...,\n",
      "\n",
      "       [[17, 70, 20],\n",
      "        [17, 70, 20],\n",
      "        [17, 70, 20],\n",
      "        ...,\n",
      "        [18, 56, 14],\n",
      "        [18, 55, 15],\n",
      "        [18, 56, 14]],\n",
      "\n",
      "       [[16, 69, 19],\n",
      "        [16, 69, 19],\n",
      "        [16, 69, 19],\n",
      "        ...,\n",
      "        [17, 54, 14],\n",
      "        [17, 54, 16],\n",
      "        [17, 54, 14]],\n",
      "\n",
      "       [[17, 68, 18],\n",
      "        [17, 68, 18],\n",
      "        [16, 69, 19],\n",
      "        ...,\n",
      "        [16, 53, 15],\n",
      "        [16, 52, 16],\n",
      "        [16, 53, 15]]], dtype=uint8)\n",
      "orig_shape: (415, 612)\n",
      "path: '/home/vasquezjc/machine_learning/object_detection_yoloV8/cat_dog.jpg'\n",
      "probs: None\n",
      "save_dir: None\n",
      "speed: {'preprocess': 21.162748336791992, 'inference': 2589.9319648742676, 'postprocess': 23.38099479675293}] ultralytics.engine.results.Results object with attributes:\n",
      "\n",
      "boxes: ultralytics.engine.results.Boxes object\n",
      "keypoints: None\n",
      "masks: None\n",
      "names: {0: 'person', 1: 'bicycle', 2: 'car', 3: 'motorcycle', 4: 'airplane', 5: 'bus', 6: 'train', 7: 'truck', 8: 'boat', 9: 'traffic light', 10: 'fire hydrant', 11: 'stop sign', 12: 'parking meter', 13: 'bench', 14: 'bird', 15: 'cat', 16: 'dog', 17: 'horse', 18: 'sheep', 19: 'cow', 20: 'elephant', 21: 'bear', 22: 'zebra', 23: 'giraffe', 24: 'backpack', 25: 'umbrella', 26: 'handbag', 27: 'tie', 28: 'suitcase', 29: 'frisbee', 30: 'skis', 31: 'snowboard', 32: 'sports ball', 33: 'kite', 34: 'baseball bat', 35: 'baseball glove', 36: 'skateboard', 37: 'surfboard', 38: 'tennis racket', 39: 'bottle', 40: 'wine glass', 41: 'cup', 42: 'fork', 43: 'knife', 44: 'spoon', 45: 'bowl', 46: 'banana', 47: 'apple', 48: 'sandwich', 49: 'orange', 50: 'broccoli', 51: 'carrot', 52: 'hot dog', 53: 'pizza', 54: 'donut', 55: 'cake', 56: 'chair', 57: 'couch', 58: 'potted plant', 59: 'bed', 60: 'dining table', 61: 'toilet', 62: 'tv', 63: 'laptop', 64: 'mouse', 65: 'remote', 66: 'keyboard', 67: 'cell phone', 68: 'microwave', 69: 'oven', 70: 'toaster', 71: 'sink', 72: 'refrigerator', 73: 'book', 74: 'clock', 75: 'vase', 76: 'scissors', 77: 'teddy bear', 78: 'hair drier', 79: 'toothbrush'}\n",
      "orig_img: array([[[22, 67, 70],\n",
      "        [20, 68, 70],\n",
      "        [21, 68, 72],\n",
      "        ...,\n",
      "        [38, 60, 78],\n",
      "        [38, 60, 78],\n",
      "        [38, 60, 78]],\n",
      "\n",
      "       [[22, 67, 70],\n",
      "        [20, 68, 70],\n",
      "        [21, 68, 72],\n",
      "        ...,\n",
      "        [36, 60, 78],\n",
      "        [38, 60, 78],\n",
      "        [36, 60, 78]],\n",
      "\n",
      "       [[22, 67, 71],\n",
      "        [20, 67, 71],\n",
      "        [21, 68, 72],\n",
      "        ...,\n",
      "        [35, 61, 77],\n",
      "        [36, 61, 77],\n",
      "        [35, 61, 77]],\n",
      "\n",
      "       ...,\n",
      "\n",
      "       [[17, 70, 20],\n",
      "        [17, 70, 20],\n",
      "        [17, 70, 20],\n",
      "        ...,\n",
      "        [18, 56, 14],\n",
      "        [18, 55, 15],\n",
      "        [18, 56, 14]],\n",
      "\n",
      "       [[16, 69, 19],\n",
      "        [16, 69, 19],\n",
      "        [16, 69, 19],\n",
      "        ...,\n",
      "        [17, 54, 14],\n",
      "        [17, 54, 16],\n",
      "        [17, 54, 14]],\n",
      "\n",
      "       [[17, 68, 18],\n",
      "        [17, 68, 18],\n",
      "        [16, 69, 19],\n",
      "        ...,\n",
      "        [16, 53, 15],\n",
      "        [16, 52, 16],\n",
      "        [16, 53, 15]]], dtype=uint8)\n",
      "orig_shape: (415, 612)\n",
      "path: '/home/vasquezjc/machine_learning/object_detection_yoloV8/cat_dog.jpg'\n",
      "probs: None\n",
      "save_dir: None\n",
      "speed: {'preprocess': 21.162748336791992, 'inference': 2589.9319648742676, 'postprocess': 23.38099479675293}\n"
     ]
    }
   ],
   "source": [
    "print(results, result)"
   ]
  },
  {
   "cell_type": "code",
   "execution_count": 23,
   "id": "54715706",
   "metadata": {},
   "outputs": [],
   "source": [
    "box = result.boxes[0]\n",
    "box2 = result2.boxes[0]"
   ]
  },
  {
   "cell_type": "code",
   "execution_count": 29,
   "id": "061e02a4",
   "metadata": {},
   "outputs": [
    {
     "name": "stdout",
     "output_type": "stream",
     "text": [
      "ultralytics.engine.results.Boxes object with attributes:\n",
      "\n",
      "cls: tensor([16., 15.])\n",
      "conf: tensor([0.9450, 0.9131])\n",
      "data: tensor([[261.0996,  94.0881, 460.9550, 313.6855,   0.9450,  16.0000],\n",
      "        [140.2444, 169.6616, 256.3775, 315.4379,   0.9131,  15.0000]])\n",
      "id: None\n",
      "is_track: False\n",
      "orig_shape: (415, 612)\n",
      "shape: torch.Size([2, 6])\n",
      "xywh: tensor([[361.0273, 203.8868, 199.8554, 219.5974],\n",
      "        [198.3109, 242.5497, 116.1331, 145.7763]])\n",
      "xywhn: tensor([[0.5899, 0.4913, 0.3266, 0.5292],\n",
      "        [0.3240, 0.5845, 0.1898, 0.3513]])\n",
      "xyxy: tensor([[261.0996,  94.0881, 460.9550, 313.6855],\n",
      "        [140.2444, 169.6616, 256.3775, 315.4379]])\n",
      "xyxyn: tensor([[0.4266, 0.2267, 0.7532, 0.7559],\n",
      "        [0.2292, 0.4088, 0.4189, 0.7601]])\n"
     ]
    }
   ],
   "source": [
    "print(result.boxes)\n"
   ]
  },
  {
   "cell_type": "code",
   "execution_count": 26,
   "id": "33b9aa48",
   "metadata": {},
   "outputs": [
    {
     "name": "stdout",
     "output_type": "stream",
     "text": [
      "Object type: 16.0\n",
      "Coordinates: [261.099609375, 94.0881118774414, 460.95501708984375, 313.685546875]\n",
      "Probability: 0.9449876546859741\n"
     ]
    }
   ],
   "source": [
    "class_id = box.cls[0].item()\n",
    "cords = box.xyxy[0].tolist()\n",
    "conf = box.conf[0].item()\n",
    "print(\"Object type:\", class_id)\n",
    "print(\"Coordinates:\", cords)\n",
    "print(\"Probability:\", conf)"
   ]
  },
  {
   "cell_type": "code",
   "execution_count": 25,
   "id": "d1eb85ad",
   "metadata": {},
   "outputs": [
    {
     "name": "stdout",
     "output_type": "stream",
     "text": [
      "Object type: dog\n",
      "Coordinates: [261, 94, 461, 314]\n",
      "Probability: 0.94\n"
     ]
    }
   ],
   "source": [
    "#make it legible for the user interface\n",
    "\n",
    "cords = box.xyxy[0].tolist()\n",
    "cords = [round(x) for x in cords]\n",
    "class_id = result.names[box.cls[0].item()]\n",
    "conf = round(box.conf[0].item(), 2)\n",
    "\n",
    "print(\"Object type:\", class_id)\n",
    "print(\"Coordinates:\", cords)\n",
    "print(\"Probability:\", conf)"
   ]
  },
  {
   "cell_type": "code",
   "execution_count": 21,
   "id": "7a89e96b",
   "metadata": {},
   "outputs": [
    {
     "name": "stdout",
     "output_type": "stream",
     "text": [
      "{0: 'person', 1: 'bicycle', 2: 'car', 3: 'motorcycle', 4: 'airplane', 5: 'bus', 6: 'train', 7: 'truck', 8: 'boat', 9: 'traffic light', 10: 'fire hydrant', 11: 'stop sign', 12: 'parking meter', 13: 'bench', 14: 'bird', 15: 'cat', 16: 'dog', 17: 'horse', 18: 'sheep', 19: 'cow', 20: 'elephant', 21: 'bear', 22: 'zebra', 23: 'giraffe', 24: 'backpack', 25: 'umbrella', 26: 'handbag', 27: 'tie', 28: 'suitcase', 29: 'frisbee', 30: 'skis', 31: 'snowboard', 32: 'sports ball', 33: 'kite', 34: 'baseball bat', 35: 'baseball glove', 36: 'skateboard', 37: 'surfboard', 38: 'tennis racket', 39: 'bottle', 40: 'wine glass', 41: 'cup', 42: 'fork', 43: 'knife', 44: 'spoon', 45: 'bowl', 46: 'banana', 47: 'apple', 48: 'sandwich', 49: 'orange', 50: 'broccoli', 51: 'carrot', 52: 'hot dog', 53: 'pizza', 54: 'donut', 55: 'cake', 56: 'chair', 57: 'couch', 58: 'potted plant', 59: 'bed', 60: 'dining table', 61: 'toilet', 62: 'tv', 63: 'laptop', 64: 'mouse', 65: 'remote', 66: 'keyboard', 67: 'cell phone', 68: 'microwave', 69: 'oven', 70: 'toaster', 71: 'sink', 72: 'refrigerator', 73: 'book', 74: 'clock', 75: 'vase', 76: 'scissors', 77: 'teddy bear', 78: 'hair drier', 79: 'toothbrush'}\n"
     ]
    }
   ],
   "source": [
    "print(result.names)"
   ]
  },
  {
   "cell_type": "code",
   "execution_count": 24,
   "id": "c90816f2",
   "metadata": {},
   "outputs": [
    {
     "name": "stdout",
     "output_type": "stream",
     "text": [
      "Object type: tensor(25.)\n",
      "Coordinates: tensor([  6.6099,   5.8486, 178.3559, 143.4982])\n",
      "Probability: tensor(0.8474)\n"
     ]
    }
   ],
   "source": [
    "print(\"Object type:\", box2.cls[0])\n",
    "print(\"Coordinates:\", box2.xyxy[0])\n",
    "print(\"Probability:\", box2.conf[0])"
   ]
  },
  {
   "cell_type": "code",
   "execution_count": 30,
   "id": "26835ebb",
   "metadata": {},
   "outputs": [
    {
     "name": "stdout",
     "output_type": "stream",
     "text": [
      "Object type: dog\n",
      "Coordinates: [261, 94, 461, 314]\n",
      "Probability: 0.94\n",
      "---\n",
      "Object type: cat\n",
      "Coordinates: [140, 170, 256, 315]\n",
      "Probability: 0.91\n",
      "---\n"
     ]
    }
   ],
   "source": [
    "for box in result.boxes:\n",
    "  class_id = result.names[box.cls[0].item()]\n",
    "  cords = box.xyxy[0].tolist()\n",
    "  cords = [round(x) for x in cords]\n",
    "  conf = round(box.conf[0].item(), 2)\n",
    "  print(\"Object type:\", class_id)\n",
    "  print(\"Coordinates:\", cords)\n",
    "  print(\"Probability:\", conf)\n",
    "  print(\"---\")"
   ]
  },
  {
   "cell_type": "code",
   "execution_count": null,
   "id": "e8b8a812",
   "metadata": {},
   "outputs": [],
   "source": []
  }
 ],
 "metadata": {
  "kernelspec": {
   "display_name": "Python 3 (ipykernel)",
   "language": "python",
   "name": "python3"
  },
  "language_info": {
   "codemirror_mode": {
    "name": "ipython",
    "version": 3
   },
   "file_extension": ".py",
   "mimetype": "text/x-python",
   "name": "python",
   "nbconvert_exporter": "python",
   "pygments_lexer": "ipython3",
   "version": "3.11.4"
  }
 },
 "nbformat": 4,
 "nbformat_minor": 5
}
