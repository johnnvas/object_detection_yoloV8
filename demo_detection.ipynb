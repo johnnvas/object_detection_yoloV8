{
 "cells": [
  {
   "cell_type": "code",
   "execution_count": 4,
   "id": "0cbe3a1e",
   "metadata": {},
   "outputs": [
    {
     "name": "stdout",
     "output_type": "stream",
     "text": [
      "\n",
      "image 1/1 /home/vasquezjc/machine_learning/object_detection_yoloV8/cat_dog.jpg: 448x640 1 cat, 1 dog, 2589.9ms\n",
      "Speed: 21.2ms preprocess, 2589.9ms inference, 23.4ms postprocess per image at shape (1, 3, 448, 640)\n"
     ]
    }
   ],
   "source": [
    "from ultralytics import YOLO\n",
    "\n",
    "model = YOLO(\"yolov8m.pt\")\n",
    "\n",
    "results = model.predict(\"cat_dog.jpg\")\n",
    "result = results[0]"
   ]
  },
  {
   "cell_type": "code",
   "execution_count": 5,
   "id": "0956b84b",
   "metadata": {},
   "outputs": [
    {
     "ename": "AttributeError",
     "evalue": "'list' object has no attribute 'boxes'",
     "output_type": "error",
     "traceback": [
      "\u001b[0;31m---------------------------------------------------------------------------\u001b[0m",
      "\u001b[0;31mAttributeError\u001b[0m                            Traceback (most recent call last)",
      "Cell \u001b[0;32mIn[5], line 1\u001b[0m\n\u001b[0;32m----> 1\u001b[0m \u001b[38;5;28mlen\u001b[39m(results\u001b[38;5;241m.\u001b[39mboxes)\n",
      "\u001b[0;31mAttributeError\u001b[0m: 'list' object has no attribute 'boxes'"
     ]
    }
   ],
   "source": [
    "len(results.boxes)"
   ]
  },
  {
   "cell_type": "code",
   "execution_count": 6,
   "id": "80497afa",
   "metadata": {},
   "outputs": [
    {
     "name": "stdout",
     "output_type": "stream",
     "text": [
      "[ultralytics.engine.results.Results object with attributes:\n",
      "\n",
      "boxes: ultralytics.engine.results.Boxes object\n",
      "keypoints: None\n",
      "masks: None\n",
      "names: {0: 'person', 1: 'bicycle', 2: 'car', 3: 'motorcycle', 4: 'airplane', 5: 'bus', 6: 'train', 7: 'truck', 8: 'boat', 9: 'traffic light', 10: 'fire hydrant', 11: 'stop sign', 12: 'parking meter', 13: 'bench', 14: 'bird', 15: 'cat', 16: 'dog', 17: 'horse', 18: 'sheep', 19: 'cow', 20: 'elephant', 21: 'bear', 22: 'zebra', 23: 'giraffe', 24: 'backpack', 25: 'umbrella', 26: 'handbag', 27: 'tie', 28: 'suitcase', 29: 'frisbee', 30: 'skis', 31: 'snowboard', 32: 'sports ball', 33: 'kite', 34: 'baseball bat', 35: 'baseball glove', 36: 'skateboard', 37: 'surfboard', 38: 'tennis racket', 39: 'bottle', 40: 'wine glass', 41: 'cup', 42: 'fork', 43: 'knife', 44: 'spoon', 45: 'bowl', 46: 'banana', 47: 'apple', 48: 'sandwich', 49: 'orange', 50: 'broccoli', 51: 'carrot', 52: 'hot dog', 53: 'pizza', 54: 'donut', 55: 'cake', 56: 'chair', 57: 'couch', 58: 'potted plant', 59: 'bed', 60: 'dining table', 61: 'toilet', 62: 'tv', 63: 'laptop', 64: 'mouse', 65: 'remote', 66: 'keyboard', 67: 'cell phone', 68: 'microwave', 69: 'oven', 70: 'toaster', 71: 'sink', 72: 'refrigerator', 73: 'book', 74: 'clock', 75: 'vase', 76: 'scissors', 77: 'teddy bear', 78: 'hair drier', 79: 'toothbrush'}\n",
      "orig_img: array([[[22, 67, 70],\n",
      "        [20, 68, 70],\n",
      "        [21, 68, 72],\n",
      "        ...,\n",
      "        [38, 60, 78],\n",
      "        [38, 60, 78],\n",
      "        [38, 60, 78]],\n",
      "\n",
      "       [[22, 67, 70],\n",
      "        [20, 68, 70],\n",
      "        [21, 68, 72],\n",
      "        ...,\n",
      "        [36, 60, 78],\n",
      "        [38, 60, 78],\n",
      "        [36, 60, 78]],\n",
      "\n",
      "       [[22, 67, 71],\n",
      "        [20, 67, 71],\n",
      "        [21, 68, 72],\n",
      "        ...,\n",
      "        [35, 61, 77],\n",
      "        [36, 61, 77],\n",
      "        [35, 61, 77]],\n",
      "\n",
      "       ...,\n",
      "\n",
      "       [[17, 70, 20],\n",
      "        [17, 70, 20],\n",
      "        [17, 70, 20],\n",
      "        ...,\n",
      "        [18, 56, 14],\n",
      "        [18, 55, 15],\n",
      "        [18, 56, 14]],\n",
      "\n",
      "       [[16, 69, 19],\n",
      "        [16, 69, 19],\n",
      "        [16, 69, 19],\n",
      "        ...,\n",
      "        [17, 54, 14],\n",
      "        [17, 54, 16],\n",
      "        [17, 54, 14]],\n",
      "\n",
      "       [[17, 68, 18],\n",
      "        [17, 68, 18],\n",
      "        [16, 69, 19],\n",
      "        ...,\n",
      "        [16, 53, 15],\n",
      "        [16, 52, 16],\n",
      "        [16, 53, 15]]], dtype=uint8)\n",
      "orig_shape: (415, 612)\n",
      "path: '/home/vasquezjc/machine_learning/object_detection_yoloV8/cat_dog.jpg'\n",
      "probs: None\n",
      "save_dir: None\n",
      "speed: {'preprocess': 21.162748336791992, 'inference': 2589.9319648742676, 'postprocess': 23.38099479675293}] ultralytics.engine.results.Results object with attributes:\n",
      "\n",
      "boxes: ultralytics.engine.results.Boxes object\n",
      "keypoints: None\n",
      "masks: None\n",
      "names: {0: 'person', 1: 'bicycle', 2: 'car', 3: 'motorcycle', 4: 'airplane', 5: 'bus', 6: 'train', 7: 'truck', 8: 'boat', 9: 'traffic light', 10: 'fire hydrant', 11: 'stop sign', 12: 'parking meter', 13: 'bench', 14: 'bird', 15: 'cat', 16: 'dog', 17: 'horse', 18: 'sheep', 19: 'cow', 20: 'elephant', 21: 'bear', 22: 'zebra', 23: 'giraffe', 24: 'backpack', 25: 'umbrella', 26: 'handbag', 27: 'tie', 28: 'suitcase', 29: 'frisbee', 30: 'skis', 31: 'snowboard', 32: 'sports ball', 33: 'kite', 34: 'baseball bat', 35: 'baseball glove', 36: 'skateboard', 37: 'surfboard', 38: 'tennis racket', 39: 'bottle', 40: 'wine glass', 41: 'cup', 42: 'fork', 43: 'knife', 44: 'spoon', 45: 'bowl', 46: 'banana', 47: 'apple', 48: 'sandwich', 49: 'orange', 50: 'broccoli', 51: 'carrot', 52: 'hot dog', 53: 'pizza', 54: 'donut', 55: 'cake', 56: 'chair', 57: 'couch', 58: 'potted plant', 59: 'bed', 60: 'dining table', 61: 'toilet', 62: 'tv', 63: 'laptop', 64: 'mouse', 65: 'remote', 66: 'keyboard', 67: 'cell phone', 68: 'microwave', 69: 'oven', 70: 'toaster', 71: 'sink', 72: 'refrigerator', 73: 'book', 74: 'clock', 75: 'vase', 76: 'scissors', 77: 'teddy bear', 78: 'hair drier', 79: 'toothbrush'}\n",
      "orig_img: array([[[22, 67, 70],\n",
      "        [20, 68, 70],\n",
      "        [21, 68, 72],\n",
      "        ...,\n",
      "        [38, 60, 78],\n",
      "        [38, 60, 78],\n",
      "        [38, 60, 78]],\n",
      "\n",
      "       [[22, 67, 70],\n",
      "        [20, 68, 70],\n",
      "        [21, 68, 72],\n",
      "        ...,\n",
      "        [36, 60, 78],\n",
      "        [38, 60, 78],\n",
      "        [36, 60, 78]],\n",
      "\n",
      "       [[22, 67, 71],\n",
      "        [20, 67, 71],\n",
      "        [21, 68, 72],\n",
      "        ...,\n",
      "        [35, 61, 77],\n",
      "        [36, 61, 77],\n",
      "        [35, 61, 77]],\n",
      "\n",
      "       ...,\n",
      "\n",
      "       [[17, 70, 20],\n",
      "        [17, 70, 20],\n",
      "        [17, 70, 20],\n",
      "        ...,\n",
      "        [18, 56, 14],\n",
      "        [18, 55, 15],\n",
      "        [18, 56, 14]],\n",
      "\n",
      "       [[16, 69, 19],\n",
      "        [16, 69, 19],\n",
      "        [16, 69, 19],\n",
      "        ...,\n",
      "        [17, 54, 14],\n",
      "        [17, 54, 16],\n",
      "        [17, 54, 14]],\n",
      "\n",
      "       [[17, 68, 18],\n",
      "        [17, 68, 18],\n",
      "        [16, 69, 19],\n",
      "        ...,\n",
      "        [16, 53, 15],\n",
      "        [16, 52, 16],\n",
      "        [16, 53, 15]]], dtype=uint8)\n",
      "orig_shape: (415, 612)\n",
      "path: '/home/vasquezjc/machine_learning/object_detection_yoloV8/cat_dog.jpg'\n",
      "probs: None\n",
      "save_dir: None\n",
      "speed: {'preprocess': 21.162748336791992, 'inference': 2589.9319648742676, 'postprocess': 23.38099479675293}\n"
     ]
    }
   ],
   "source": [
    "print(results, result)"
   ]
  },
  {
   "cell_type": "code",
   "execution_count": null,
   "id": "c623d3a1",
   "metadata": {},
   "outputs": [],
   "source": []
  }
 ],
 "metadata": {
  "kernelspec": {
   "display_name": "Python 3 (ipykernel)",
   "language": "python",
   "name": "python3"
  },
  "language_info": {
   "codemirror_mode": {
    "name": "ipython",
    "version": 3
   },
   "file_extension": ".py",
   "mimetype": "text/x-python",
   "name": "python",
   "nbconvert_exporter": "python",
   "pygments_lexer": "ipython3",
   "version": "3.11.4"
  }
 },
 "nbformat": 4,
 "nbformat_minor": 5
}
